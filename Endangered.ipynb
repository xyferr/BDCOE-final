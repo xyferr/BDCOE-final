{
  "cells": [
    {
      "cell_type": "code",
      "execution_count": 2,
      "metadata": {
        "id": "cUNShM0OsaS8"
      },
      "outputs": [
        {
          "name": "stdout",
          "output_type": "stream",
          "text": [
            "WARNING:tensorflow:From C:\\Users\\XYFER\\AppData\\Local\\Packages\\PythonSoftwareFoundation.Python.3.11_qbz5n2kfra8p0\\LocalCache\\local-packages\\Python311\\site-packages\\keras\\src\\losses.py:2976: The name tf.losses.sparse_softmax_cross_entropy is deprecated. Please use tf.compat.v1.losses.sparse_softmax_cross_entropy instead.\n",
            "\n"
          ]
        }
      ],
      "source": [
        "import pandas as pd\n",
        "import numpy as np\n",
        "import matplotlib.pyplot as plt\n",
        "import os\n",
        "import skimage.io\n",
        "import tensorflow\n",
        "import tqdm\n",
        "import glob\n",
        "\n",
        "import tensorflow as tf\n",
        "from tensorflow.keras.models import Sequential\n",
        "from tensorflow.keras.layers import GlobalAveragePooling2D, Dense, Input, Conv2D, Dropout, Permute\n",
        "from tensorflow.keras.preprocessing.image import ImageDataGenerator\n",
        "from tensorflow.keras.callbacks import ModelCheckpoint, CSVLogger, EarlyStopping\n",
        "\n",
        "import sklearn\n",
        "from sklearn.model_selection import train_test_split"
      ]
    },
    {
      "cell_type": "code",
      "execution_count": 3,
      "metadata": {
        "id": "U2QYQx07Z4VO"
      },
      "outputs": [],
      "source": [
        "import os\n",
        "import cv2\n",
        "import warnings\n",
        "warnings.filterwarnings('ignore')\n",
        "#or dirname, _, _ in os.walk(''):\n",
        "  #      print(dirname)"
      ]
    },
    {
      "cell_type": "markdown",
      "metadata": {
        "id": "L7J7NgLLeBfW"
      },
      "source": []
    },
    {
      "cell_type": "code",
      "execution_count": 4,
      "metadata": {
        "id": "VWrmXVLTjYcN"
      },
      "outputs": [],
      "source": [
        "from __future__ import absolute_import, division , print_function, unicode_literals\n",
        "\n",
        "from IPython.display import clear_output\n",
        "from six.moves import urllib\n",
        "import tensorflow.compat.v2.feature_column as fc\n",
        "import tensorflow as tf\n"
      ]
    },
    {
      "cell_type": "code",
      "execution_count": 9,
      "metadata": {
        "id": "fxU-GFnvkHW4"
      },
      "outputs": [],
      "source": [
        "training_dir = \"Training\"\n",
        "validation_dir = \"Validation\"\n",
        "test_dir = \"Testing\""
      ]
    },
    {
      "cell_type": "markdown",
      "metadata": {
        "id": "6QnL7orYm68o"
      },
      "source": [
        "# **Data Augmentation and Preprocessing**"
      ]
    },
    {
      "cell_type": "code",
      "execution_count": 10,
      "metadata": {
        "id": "6GIFf2jemwsb"
      },
      "outputs": [],
      "source": [
        "image_size = (224, 224)\n",
        "batch_size = 32"
      ]
    },
    {
      "cell_type": "code",
      "execution_count": 11,
      "metadata": {
        "colab": {
          "base_uri": "https://localhost:8080/"
        },
        "id": "21aTe4RSnDLo",
        "outputId": "429ba92c-14a9-4a86-ed58-fcc21104c16f"
      },
      "outputs": [
        {
          "name": "stdout",
          "output_type": "stream",
          "text": [
            "Found 340 images belonging to 2 classes.\n"
          ]
        },
        {
          "name": "stdout",
          "output_type": "stream",
          "text": [
            "Found 80 images belonging to 2 classes.\n",
            "Found 80 images belonging to 2 classes.\n"
          ]
        }
      ],
      "source": [
        "augmented_datagen = ImageDataGenerator(\n",
        "    rescale=1.0/255,\n",
        "    rotation_range=30,\n",
        "    width_shift_range=0.2,\n",
        "    height_shift_range=0.2,\n",
        "    shear_range=0.2,\n",
        "    zoom_range=0.2,\n",
        "    horizontal_flip=True,\n",
        "    fill_mode='nearest',\n",
        ")\n",
        "\n",
        "base_datagen = ImageDataGenerator(rescale=1.0/255)\n",
        "\n",
        "train_generator = augmented_datagen.flow_from_directory(\n",
        "    training_dir,\n",
        "    target_size=image_size,\n",
        "    batch_size=batch_size,\n",
        "    class_mode='binary',\n",
        "    color_mode='rgb'\n",
        ")\n",
        "\n",
        "\n",
        "validation_generator = base_datagen.flow_from_directory(\n",
        "    validation_dir,\n",
        "    target_size=image_size,\n",
        "    batch_size=batch_size,\n",
        "    class_mode='binary',\n",
        "    color_mode='rgb'\n",
        ")\n",
        "\n",
        "test_generator = base_datagen.flow_from_directory(\n",
        "    test_dir,\n",
        "    target_size=image_size,\n",
        "    batch_size=batch_size,\n",
        "    class_mode='binary',\n",
        "    color_mode='rgb'\n",
        ")"
      ]
    },
    {
      "cell_type": "markdown",
      "metadata": {
        "id": "-xnCGKgpD1N5"
      },
      "source": [
        "# Model training"
      ]
    },
    {
      "cell_type": "markdown",
      "metadata": {
        "id": "9ebrwqnDEepS"
      },
      "source": [
        "importation"
      ]
    },
    {
      "cell_type": "code",
      "execution_count": 12,
      "metadata": {
        "id": "bZL0IalGnRyP"
      },
      "outputs": [],
      "source": [
        "# Importing the pretrained models\n",
        "from tensorflow.keras.applications.vgg16 import VGG16\n",
        "from tensorflow.keras.applications.mobilenet import MobileNet\n",
        "from tensorflow.keras.applications.resnet import ResNet50"
      ]
    },
    {
      "cell_type": "code",
      "execution_count": 13,
      "metadata": {
        "colab": {
          "base_uri": "https://localhost:8080/"
        },
        "id": "R5pO7F-nEBp4",
        "outputId": "8aa2dda8-8e9a-4205-af50-81ae49c08c8a"
      },
      "outputs": [
        {
          "name": "stdout",
          "output_type": "stream",
          "text": [
            "WARNING:tensorflow:`input_shape` is undefined or non-square, or `rows` is not in [128, 160, 192, 224]. Weights for input shape (224, 224) will be loaded as the default.\n",
            "WARNING:tensorflow:From C:\\Users\\XYFER\\AppData\\Local\\Packages\\PythonSoftwareFoundation.Python.3.11_qbz5n2kfra8p0\\LocalCache\\local-packages\\Python311\\site-packages\\keras\\src\\backend.py:1398: The name tf.executing_eagerly_outside_functions is deprecated. Please use tf.compat.v1.executing_eagerly_outside_functions instead.\n",
            "\n",
            "WARNING:tensorflow:From C:\\Users\\XYFER\\AppData\\Local\\Packages\\PythonSoftwareFoundation.Python.3.11_qbz5n2kfra8p0\\LocalCache\\local-packages\\Python311\\site-packages\\keras\\src\\layers\\normalization\\batch_normalization.py:979: The name tf.nn.fused_batch_norm is deprecated. Please use tf.compat.v1.nn.fused_batch_norm instead.\n",
            "\n",
            "Downloading data from https://storage.googleapis.com/tensorflow/keras-applications/mobilenet/mobilenet_1_0_224_tf_no_top.h5\n",
            "17225924/17225924 [==============================] - 3s 0us/step\n",
            "Downloading data from https://storage.googleapis.com/tensorflow/keras-applications/resnet/resnet50_weights_tf_dim_ordering_tf_kernels_notop.h5\n",
            "94765736/94765736 [==============================] - 7s 0us/step\n",
            "Downloading data from https://storage.googleapis.com/tensorflow/keras-applications/vgg16/vgg16_weights_tf_dim_ordering_tf_kernels_notop.h5\n",
            "58889256/58889256 [==============================] - 5s 0us/step\n"
          ]
        }
      ],
      "source": [
        "# Importing MobileNet\n",
        "pretrained_mobilenet_model = MobileNet(weights='imagenet', include_top=False)\n",
        "pretrained_mobilenet_model.trainable = False\n",
        "\n",
        "# Importing ResNet50\n",
        "pretrained_resnet50_model = ResNet50(weights='imagenet', include_top=False)\n",
        "pretrained_resnet50_model.trainable = False\n",
        "\n",
        "# Importing VGG16\n",
        "pretrained_vgg16_model = VGG16(weights='imagenet', include_top=False)\n",
        "pretrained_vgg16_model.trainable = False\n"
      ]
    },
    {
      "cell_type": "markdown",
      "metadata": {
        "id": "7OQJ0PWiEjre"
      },
      "source": [
        "preparation of model"
      ]
    },
    {
      "cell_type": "code",
      "execution_count": 14,
      "metadata": {
        "colab": {
          "base_uri": "https://localhost:8080/"
        },
        "id": "xaVv6ZkaEMQz",
        "outputId": "683d1162-d2df-4d52-f296-2bd658e89617"
      },
      "outputs": [
        {
          "name": "stdout",
          "output_type": "stream",
          "text": [
            "WARNING:tensorflow:From C:\\Users\\XYFER\\AppData\\Local\\Packages\\PythonSoftwareFoundation.Python.3.11_qbz5n2kfra8p0\\LocalCache\\local-packages\\Python311\\site-packages\\keras\\src\\optimizers\\__init__.py:309: The name tf.train.Optimizer is deprecated. Please use tf.compat.v1.train.Optimizer instead.\n",
            "\n",
            "Model: \"sequential\"\n",
            "_________________________________________________________________\n",
            " Layer (type)                Output Shape              Param #   \n",
            "=================================================================\n",
            " mobilenet_1.00_224 (Functi  (None, None, None, 1024   3228864   \n",
            " onal)                       )                                   \n",
            "                                                                 \n",
            " conv2d (Conv2D)             (None, None, None, 512)   4719104   \n",
            "                                                                 \n",
            " conv2d_1 (Conv2D)           (None, None, None, 512)   2359808   \n",
            "                                                                 \n",
            " conv2d_2 (Conv2D)           (None, None, None, 256)   1179904   \n",
            "                                                                 \n",
            " global_average_pooling2d (  (None, 256)               0         \n",
            " GlobalAveragePooling2D)                                         \n",
            "                                                                 \n",
            " dropout (Dropout)           (None, 256)               0         \n",
            "                                                                 \n",
            " dense (Dense)               (None, 1)                 257       \n",
            "                                                                 \n",
            "=================================================================\n",
            "Total params: 11487937 (43.82 MB)\n",
            "Trainable params: 8259073 (31.51 MB)\n",
            "Non-trainable params: 3228864 (12.32 MB)\n",
            "_________________________________________________________________\n"
          ]
        }
      ],
      "source": [
        "mobilenet_model = Sequential()\n",
        "mobilenet_model.add(pretrained_mobilenet_model)\n",
        "mobilenet_model.add(Conv2D(512, (3, 3), activation='relu', input_shape=(224, 224, 3)))\n",
        "mobilenet_model.add(Conv2D(512, (3, 3), activation='relu'))\n",
        "mobilenet_model.add(Conv2D(256, (3, 3), activation='relu'))\n",
        "mobilenet_model.add(GlobalAveragePooling2D())\n",
        "mobilenet_model.add(Dropout(0.2))\n",
        "mobilenet_model.add(Dense(1, activation='sigmoid'))\n",
        "mobilenet_model.compile(optimizer='adam', loss='binary_crossentropy', metrics=['accuracy'])\n",
        "mobilenet_model.summary()"
      ]
    },
    {
      "cell_type": "code",
      "execution_count": 15,
      "metadata": {
        "colab": {
          "base_uri": "https://localhost:8080/"
        },
        "id": "ul4bRr9lEack",
        "outputId": "8d028644-42c4-4298-e670-01de153e70fd"
      },
      "outputs": [
        {
          "name": "stdout",
          "output_type": "stream",
          "text": [
            "Model: \"sequential_1\"\n",
            "_________________________________________________________________\n",
            " Layer (type)                Output Shape              Param #   \n",
            "=================================================================\n",
            " resnet50 (Functional)       (None, None, None, 2048   23587712  \n",
            "                             )                                   \n",
            "                                                                 \n",
            " conv2d_3 (Conv2D)           (None, None, None, 1024   18875392  \n",
            "                             )                                   \n",
            "                                                                 \n",
            " conv2d_4 (Conv2D)           (None, None, None, 1024   9438208   \n",
            "                             )                                   \n",
            "                                                                 \n",
            " conv2d_5 (Conv2D)           (None, None, None, 512)   4719104   \n",
            "                                                                 \n",
            " global_average_pooling2d_1  (None, 512)               0         \n",
            "  (GlobalAveragePooling2D)                                       \n",
            "                                                                 \n",
            " dropout_1 (Dropout)         (None, 512)               0         \n",
            "                                                                 \n",
            " dense_1 (Dense)             (None, 1)                 513       \n",
            "                                                                 \n",
            "=================================================================\n",
            "Total params: 56620929 (215.99 MB)\n",
            "Trainable params: 33033217 (126.01 MB)\n",
            "Non-trainable params: 23587712 (89.98 MB)\n",
            "_________________________________________________________________\n"
          ]
        }
      ],
      "source": [
        "resnet50_model = Sequential()\n",
        "resnet50_model.add(pretrained_resnet50_model)\n",
        "resnet50_model.add(Conv2D(1024, (3, 3), activation='relu', input_shape=(224, 224, 3)))\n",
        "resnet50_model.add(Conv2D(1024, (3, 3), activation='relu'))\n",
        "resnet50_model.add(Conv2D(512, (3, 3), activation='relu'))\n",
        "resnet50_model.add(GlobalAveragePooling2D())\n",
        "resnet50_model.add(Dropout(0.2))\n",
        "resnet50_model.add(Dense(1, activation='sigmoid'))\n",
        "resnet50_model.compile(optimizer='adam', loss='binary_crossentropy', metrics=['accuracy'])\n",
        "resnet50_model.summary()"
      ]
    },
    {
      "cell_type": "code",
      "execution_count": 16,
      "metadata": {
        "colab": {
          "base_uri": "https://localhost:8080/"
        },
        "id": "cFv6bc93EpvV",
        "outputId": "285ad151-e867-4a31-dae5-6dd53a35b305"
      },
      "outputs": [
        {
          "name": "stdout",
          "output_type": "stream",
          "text": [
            "Model: \"sequential_2\"\n",
            "_________________________________________________________________\n",
            " Layer (type)                Output Shape              Param #   \n",
            "=================================================================\n",
            " vgg16 (Functional)          (None, None, None, 512)   14714688  \n",
            "                                                                 \n",
            " conv2d_6 (Conv2D)           (None, None, None, 256)   1179904   \n",
            "                                                                 \n",
            " conv2d_7 (Conv2D)           (None, None, None, 256)   590080    \n",
            "                                                                 \n",
            " conv2d_8 (Conv2D)           (None, None, None, 128)   295040    \n",
            "                                                                 \n",
            " global_average_pooling2d_2  (None, 128)               0         \n",
            "  (GlobalAveragePooling2D)                                       \n",
            "                                                                 \n",
            " dropout_2 (Dropout)         (None, 128)               0         \n",
            "                                                                 \n",
            " dense_2 (Dense)             (None, 1)                 129       \n",
            "                                                                 \n",
            "=================================================================\n",
            "Total params: 16779841 (64.01 MB)\n",
            "Trainable params: 2065153 (7.88 MB)\n",
            "Non-trainable params: 14714688 (56.13 MB)\n",
            "_________________________________________________________________\n"
          ]
        }
      ],
      "source": [
        "vgg16_model = Sequential()\n",
        "vgg16_model.add(pretrained_vgg16_model)\n",
        "vgg16_model.add(Conv2D(256, (3, 3), activation='relu', input_shape=(224, 224, 3)))\n",
        "vgg16_model.add(Conv2D(256, (3, 3), activation='relu'))\n",
        "vgg16_model.add(Conv2D(128, (3, 3), activation='relu'))\n",
        "vgg16_model.add(GlobalAveragePooling2D())\n",
        "vgg16_model.add(Dropout(0.2))\n",
        "vgg16_model.add(Dense(1, activation='sigmoid'))\n",
        "vgg16_model.compile(optimizer='adam', loss='binary_crossentropy', metrics=['accuracy'])\n",
        "vgg16_model.summary()"
      ]
    },
    {
      "cell_type": "markdown",
      "metadata": {
        "id": "e4dSm-SJE-AT"
      },
      "source": [
        "training of model"
      ]
    },
    {
      "cell_type": "code",
      "execution_count": 17,
      "metadata": {
        "id": "7XYdziVEE6si"
      },
      "outputs": [],
      "source": [
        "epochs = 250\n",
        "patience = 25"
      ]
    },
    {
      "cell_type": "code",
      "execution_count": 18,
      "metadata": {
        "id": "btSrEMmDFDgf"
      },
      "outputs": [],
      "source": [
        "mobilenet_loss_early_stopping = EarlyStopping(\n",
        "    monitor='val_loss',\n",
        "    mode='min',\n",
        "    patience=patience,\n",
        "    verbose=1\n",
        ")\n",
        "\n",
        "mobilenet_accuracy_early_stopping = EarlyStopping(\n",
        "    monitor='val_accuracy',\n",
        "    mode='max',\n",
        "    patience=patience,\n",
        "    verbose=1\n",
        ")\n",
        "mobilenet_checkpoint_loss = ModelCheckpoint(\n",
        "    filepath='mobilenet_checkpoint_loss.h5',\n",
        "    save_best_only=True,\n",
        "    save_weights_only=False,\n",
        "    monitor='val_loss',\n",
        "    mode='min',\n",
        "    verbose=1\n",
        ")\n",
        "\n",
        "mobilenet_checkpoint_accuracy = ModelCheckpoint(\n",
        "    filepath='mobilenet_checkpoint_accuracy.h5',\n",
        "    save_best_only=True,\n",
        "    save_weights_only=False,\n",
        "    monitor='val_accuracy',\n",
        "    mode='max',\n",
        "    verbose=1\n",
        ")\n",
        "\n",
        "mobilenet_callbacks = [\n",
        "    mobilenet_checkpoint_loss,\n",
        "    mobilenet_checkpoint_accuracy,\n",
        "    mobilenet_loss_early_stopping,\n",
        "    mobilenet_accuracy_early_stopping,\n",
        "    CSVLogger(filename='mobilenet_training_log.csv')\n",
        "]\n"
      ]
    },
    {
      "cell_type": "code",
      "execution_count": 19,
      "metadata": {
        "id": "tVPQy3V6FyUt"
      },
      "outputs": [],
      "source": [
        "vgg16_loss_early_stopping = EarlyStopping(\n",
        "    monitor='val_loss',\n",
        "    mode='min',\n",
        "    patience=patience,\n",
        "    verbose=1\n",
        ")\n",
        "\n",
        "vgg16_accuracy_early_stopping = EarlyStopping(\n",
        "    monitor='val_accuracy',\n",
        "    mode='max',\n",
        "    patience=patience,\n",
        "    verbose=1\n",
        ")\n",
        "\n",
        "vgg16_checkpoint_loss = ModelCheckpoint(\n",
        "    filepath='vgg16_checkpoint_loss.h5',\n",
        "    save_best_only=True,\n",
        "    save_weights_only=False,\n",
        "    monitor='val_loss',\n",
        "    mode='min',\n",
        "    verbose=1\n",
        ")\n",
        "\n",
        "vgg16_checkpoint_accuracy = ModelCheckpoint(\n",
        "    filepath='vgg16_checkpoint_accuracy.h5',\n",
        "    save_best_only=True,\n",
        "    save_weights_only=False,\n",
        "    monitor='val_accuracy',\n",
        "    mode='max',\n",
        "    verbose=1\n",
        ")\n",
        "\n",
        "vgg16_callbacks = [\n",
        "    vgg16_checkpoint_loss,\n",
        "    vgg16_checkpoint_accuracy,\n",
        "    vgg16_loss_early_stopping,\n",
        "    vgg16_accuracy_early_stopping,\n",
        "    CSVLogger(filename='vgg16_training_log.csv')\n",
        "]\n"
      ]
    },
    {
      "cell_type": "code",
      "execution_count": 20,
      "metadata": {
        "id": "tXlobirRF8Ex"
      },
      "outputs": [],
      "source": [
        "resnet50_loss_early_stopping = EarlyStopping(\n",
        "    monitor='val_loss',\n",
        "    mode='min',\n",
        "    patience=patience,\n",
        "    verbose=1\n",
        ")\n",
        "\n",
        "resnet50_accuracy_early_stopping = EarlyStopping(\n",
        "    monitor='val_accuracy',\n",
        "    mode='max',\n",
        "    patience=patience,\n",
        "    verbose=1\n",
        ")\n",
        "\n",
        "resnet50_checkpoint_loss = ModelCheckpoint(\n",
        "    filepath='resnet50_checkpoint_loss.h5',\n",
        "    save_best_only=True,\n",
        "    save_weights_only=False,\n",
        "    monitor='val_loss',\n",
        "    mode='min',\n",
        "    verbose=1\n",
        ")\n",
        "\n",
        "resnet50_checkpoint_accuracy = ModelCheckpoint(\n",
        "    filepath='resnet50_checkpoint_accuracy.h5',\n",
        "    save_best_only=True,\n",
        "    save_weights_only=False,\n",
        "    monitor='val_accuracy',\n",
        "    mode='max',\n",
        "    verbose=1\n",
        ")\n",
        "\n",
        "resnet50_callbacks = [\n",
        "    resnet50_checkpoint_loss,\n",
        "    resnet50_checkpoint_accuracy,\n",
        "    resnet50_loss_early_stopping,\n",
        "    resnet50_accuracy_early_stopping,\n",
        "    CSVLogger(filename='resnet50_training_log.csv')\n",
        "]"
      ]
    },
    {
      "cell_type": "code",
      "execution_count": 21,
      "metadata": {
        "colab": {
          "base_uri": "https://localhost:8080/"
        },
        "id": "352njK8SGC_S",
        "outputId": "853a008f-4cf4-4f8b-d3f8-2edba8e2d626"
      },
      "outputs": [
        {
          "name": "stdout",
          "output_type": "stream",
          "text": [
            "Epoch 1/250\n",
            "WARNING:tensorflow:From C:\\Users\\XYFER\\AppData\\Local\\Packages\\PythonSoftwareFoundation.Python.3.11_qbz5n2kfra8p0\\LocalCache\\local-packages\\Python311\\site-packages\\keras\\src\\utils\\tf_utils.py:492: The name tf.ragged.RaggedTensorValue is deprecated. Please use tf.compat.v1.ragged.RaggedTensorValue instead.\n",
            "\n",
            "WARNING:tensorflow:From C:\\Users\\XYFER\\AppData\\Local\\Packages\\PythonSoftwareFoundation.Python.3.11_qbz5n2kfra8p0\\LocalCache\\local-packages\\Python311\\site-packages\\keras\\src\\engine\\base_layer_utils.py:384: The name tf.executing_eagerly_outside_functions is deprecated. Please use tf.compat.v1.executing_eagerly_outside_functions instead.\n",
            "\n",
            "11/11 [==============================] - ETA: 0s - loss: 5.9309 - accuracy: 0.5353\n",
            "Epoch 1: val_loss improved from inf to 0.60763, saving model to mobilenet_checkpoint_loss.h5\n",
            "\n",
            "Epoch 1: val_accuracy improved from -inf to 0.72500, saving model to mobilenet_checkpoint_accuracy.h5\n",
            "11/11 [==============================] - 17s 1s/step - loss: 5.9309 - accuracy: 0.5353 - val_loss: 0.6076 - val_accuracy: 0.7250\n",
            "Epoch 2/250\n",
            "11/11 [==============================] - ETA: 0s - loss: 0.6051 - accuracy: 0.7118\n",
            "Epoch 2: val_loss improved from 0.60763 to 0.42303, saving model to mobilenet_checkpoint_loss.h5\n",
            "\n",
            "Epoch 2: val_accuracy improved from 0.72500 to 0.82500, saving model to mobilenet_checkpoint_accuracy.h5\n",
            "11/11 [==============================] - 15s 1s/step - loss: 0.6051 - accuracy: 0.7118 - val_loss: 0.4230 - val_accuracy: 0.8250\n",
            "Epoch 3/250\n",
            "11/11 [==============================] - ETA: 0s - loss: 0.3954 - accuracy: 0.8412\n",
            "Epoch 3: val_loss did not improve from 0.42303\n",
            "\n",
            "Epoch 3: val_accuracy did not improve from 0.82500\n",
            "11/11 [==============================] - 14s 1s/step - loss: 0.3954 - accuracy: 0.8412 - val_loss: 0.5259 - val_accuracy: 0.8125\n",
            "Epoch 4/250\n",
            "11/11 [==============================] - ETA: 0s - loss: 0.2795 - accuracy: 0.8941\n",
            "Epoch 4: val_loss improved from 0.42303 to 0.31549, saving model to mobilenet_checkpoint_loss.h5\n",
            "\n",
            "Epoch 4: val_accuracy improved from 0.82500 to 0.86250, saving model to mobilenet_checkpoint_accuracy.h5\n",
            "11/11 [==============================] - 15s 1s/step - loss: 0.2795 - accuracy: 0.8941 - val_loss: 0.3155 - val_accuracy: 0.8625\n",
            "Epoch 5/250\n",
            "11/11 [==============================] - ETA: 0s - loss: 0.2107 - accuracy: 0.9059\n",
            "Epoch 5: val_loss improved from 0.31549 to 0.22869, saving model to mobilenet_checkpoint_loss.h5\n",
            "\n",
            "Epoch 5: val_accuracy improved from 0.86250 to 0.87500, saving model to mobilenet_checkpoint_accuracy.h5\n",
            "11/11 [==============================] - 14s 1s/step - loss: 0.2107 - accuracy: 0.9059 - val_loss: 0.2287 - val_accuracy: 0.8750\n",
            "Epoch 6/250\n",
            "11/11 [==============================] - ETA: 0s - loss: 0.1458 - accuracy: 0.9529\n",
            "Epoch 6: val_loss did not improve from 0.22869\n",
            "\n",
            "Epoch 6: val_accuracy improved from 0.87500 to 0.90000, saving model to mobilenet_checkpoint_accuracy.h5\n",
            "11/11 [==============================] - 14s 1s/step - loss: 0.1458 - accuracy: 0.9529 - val_loss: 0.4232 - val_accuracy: 0.9000\n",
            "Epoch 7/250\n",
            "11/11 [==============================] - ETA: 0s - loss: 0.1430 - accuracy: 0.9441\n",
            "Epoch 7: val_loss improved from 0.22869 to 0.20885, saving model to mobilenet_checkpoint_loss.h5\n",
            "\n",
            "Epoch 7: val_accuracy did not improve from 0.90000\n",
            "11/11 [==============================] - 15s 1s/step - loss: 0.1430 - accuracy: 0.9441 - val_loss: 0.2089 - val_accuracy: 0.9000\n",
            "Epoch 8/250\n",
            "11/11 [==============================] - ETA: 0s - loss: 0.1661 - accuracy: 0.9265\n",
            "Epoch 8: val_loss did not improve from 0.20885\n",
            "\n",
            "Epoch 8: val_accuracy did not improve from 0.90000\n",
            "11/11 [==============================] - 13s 1s/step - loss: 0.1661 - accuracy: 0.9265 - val_loss: 0.3427 - val_accuracy: 0.9000\n",
            "Epoch 9/250\n",
            "11/11 [==============================] - ETA: 0s - loss: 0.1025 - accuracy: 0.9588\n",
            "Epoch 9: val_loss did not improve from 0.20885\n",
            "\n",
            "Epoch 9: val_accuracy improved from 0.90000 to 0.91250, saving model to mobilenet_checkpoint_accuracy.h5\n",
            "11/11 [==============================] - 13s 1s/step - loss: 0.1025 - accuracy: 0.9588 - val_loss: 0.4086 - val_accuracy: 0.9125\n",
            "Epoch 10/250\n",
            "11/11 [==============================] - ETA: 0s - loss: 0.1558 - accuracy: 0.9471\n",
            "Epoch 10: val_loss improved from 0.20885 to 0.19767, saving model to mobilenet_checkpoint_loss.h5\n",
            "\n",
            "Epoch 10: val_accuracy improved from 0.91250 to 0.92500, saving model to mobilenet_checkpoint_accuracy.h5\n",
            "11/11 [==============================] - 14s 1s/step - loss: 0.1558 - accuracy: 0.9471 - val_loss: 0.1977 - val_accuracy: 0.9250\n",
            "Epoch 11/250\n",
            "11/11 [==============================] - ETA: 0s - loss: 0.1157 - accuracy: 0.9559\n",
            "Epoch 11: val_loss did not improve from 0.19767\n",
            "\n",
            "Epoch 11: val_accuracy did not improve from 0.92500\n",
            "11/11 [==============================] - 15s 1s/step - loss: 0.1157 - accuracy: 0.9559 - val_loss: 0.2405 - val_accuracy: 0.8750\n",
            "Epoch 12/250\n",
            "11/11 [==============================] - ETA: 0s - loss: 0.1075 - accuracy: 0.9676\n",
            "Epoch 12: val_loss did not improve from 0.19767\n",
            "\n",
            "Epoch 12: val_accuracy did not improve from 0.92500\n",
            "11/11 [==============================] - 14s 1s/step - loss: 0.1075 - accuracy: 0.9676 - val_loss: 0.4559 - val_accuracy: 0.8375\n",
            "Epoch 13/250\n",
            "11/11 [==============================] - ETA: 0s - loss: 0.0907 - accuracy: 0.9676\n",
            "Epoch 13: val_loss did not improve from 0.19767\n",
            "\n",
            "Epoch 13: val_accuracy did not improve from 0.92500\n",
            "11/11 [==============================] - 15s 1s/step - loss: 0.0907 - accuracy: 0.9676 - val_loss: 0.4973 - val_accuracy: 0.8500\n",
            "Epoch 14/250\n",
            "11/11 [==============================] - ETA: 0s - loss: 0.0568 - accuracy: 0.9676\n",
            "Epoch 14: val_loss did not improve from 0.19767\n",
            "\n",
            "Epoch 14: val_accuracy did not improve from 0.92500\n",
            "11/11 [==============================] - 14s 1s/step - loss: 0.0568 - accuracy: 0.9676 - val_loss: 0.3229 - val_accuracy: 0.8750\n",
            "Epoch 15/250\n",
            "11/11 [==============================] - ETA: 0s - loss: 0.0499 - accuracy: 0.9794\n",
            "Epoch 15: val_loss did not improve from 0.19767\n",
            "\n",
            "Epoch 15: val_accuracy did not improve from 0.92500\n",
            "11/11 [==============================] - 14s 1s/step - loss: 0.0499 - accuracy: 0.9794 - val_loss: 0.6455 - val_accuracy: 0.8750\n",
            "Epoch 16/250\n",
            "11/11 [==============================] - ETA: 0s - loss: 0.0211 - accuracy: 0.9912\n",
            "Epoch 16: val_loss did not improve from 0.19767\n",
            "\n",
            "Epoch 16: val_accuracy did not improve from 0.92500\n",
            "11/11 [==============================] - 13s 1s/step - loss: 0.0211 - accuracy: 0.9912 - val_loss: 1.2905 - val_accuracy: 0.8750\n",
            "Epoch 17/250\n",
            "11/11 [==============================] - ETA: 0s - loss: 0.1284 - accuracy: 0.9559\n",
            "Epoch 17: val_loss did not improve from 0.19767\n",
            "\n",
            "Epoch 17: val_accuracy did not improve from 0.92500\n",
            "11/11 [==============================] - 14s 1s/step - loss: 0.1284 - accuracy: 0.9559 - val_loss: 0.4444 - val_accuracy: 0.9250\n",
            "Epoch 18/250\n",
            "11/11 [==============================] - ETA: 0s - loss: 0.1480 - accuracy: 0.9500\n",
            "Epoch 18: val_loss did not improve from 0.19767\n",
            "\n",
            "Epoch 18: val_accuracy did not improve from 0.92500\n",
            "11/11 [==============================] - 14s 1s/step - loss: 0.1480 - accuracy: 0.9500 - val_loss: 0.2598 - val_accuracy: 0.9000\n",
            "Epoch 19/250\n",
            "11/11 [==============================] - ETA: 0s - loss: 0.1086 - accuracy: 0.9588\n",
            "Epoch 19: val_loss did not improve from 0.19767\n",
            "\n",
            "Epoch 19: val_accuracy did not improve from 0.92500\n",
            "11/11 [==============================] - 14s 1s/step - loss: 0.1086 - accuracy: 0.9588 - val_loss: 0.4362 - val_accuracy: 0.9125\n",
            "Epoch 20/250\n",
            "11/11 [==============================] - ETA: 0s - loss: 0.0738 - accuracy: 0.9735\n",
            "Epoch 20: val_loss did not improve from 0.19767\n",
            "\n",
            "Epoch 20: val_accuracy did not improve from 0.92500\n",
            "11/11 [==============================] - 14s 1s/step - loss: 0.0738 - accuracy: 0.9735 - val_loss: 0.2076 - val_accuracy: 0.9250\n",
            "Epoch 21/250\n",
            "11/11 [==============================] - ETA: 0s - loss: 0.0802 - accuracy: 0.9588\n",
            "Epoch 21: val_loss did not improve from 0.19767\n",
            "\n",
            "Epoch 21: val_accuracy did not improve from 0.92500\n",
            "11/11 [==============================] - 14s 1s/step - loss: 0.0802 - accuracy: 0.9588 - val_loss: 0.3316 - val_accuracy: 0.8750\n",
            "Epoch 22/250\n",
            "11/11 [==============================] - ETA: 0s - loss: 0.0740 - accuracy: 0.9765\n",
            "Epoch 22: val_loss did not improve from 0.19767\n",
            "\n",
            "Epoch 22: val_accuracy did not improve from 0.92500\n",
            "11/11 [==============================] - 14s 1s/step - loss: 0.0740 - accuracy: 0.9765 - val_loss: 0.4044 - val_accuracy: 0.8875\n",
            "Epoch 23/250\n",
            "11/11 [==============================] - ETA: 0s - loss: 0.0778 - accuracy: 0.9765\n",
            "Epoch 23: val_loss improved from 0.19767 to 0.16419, saving model to mobilenet_checkpoint_loss.h5\n",
            "\n",
            "Epoch 23: val_accuracy did not improve from 0.92500\n",
            "11/11 [==============================] - 15s 1s/step - loss: 0.0778 - accuracy: 0.9765 - val_loss: 0.1642 - val_accuracy: 0.9250\n",
            "Epoch 24/250\n",
            "11/11 [==============================] - ETA: 0s - loss: 0.0255 - accuracy: 0.9912\n",
            "Epoch 24: val_loss did not improve from 0.16419\n",
            "\n",
            "Epoch 24: val_accuracy did not improve from 0.92500\n",
            "11/11 [==============================] - 14s 1s/step - loss: 0.0255 - accuracy: 0.9912 - val_loss: 0.3797 - val_accuracy: 0.9125\n",
            "Epoch 25/250\n",
            "11/11 [==============================] - ETA: 0s - loss: 0.0573 - accuracy: 0.9735\n",
            "Epoch 25: val_loss did not improve from 0.16419\n",
            "\n",
            "Epoch 25: val_accuracy did not improve from 0.92500\n",
            "11/11 [==============================] - 14s 1s/step - loss: 0.0573 - accuracy: 0.9735 - val_loss: 0.3574 - val_accuracy: 0.9125\n",
            "Epoch 26/250\n",
            "11/11 [==============================] - ETA: 0s - loss: 0.0326 - accuracy: 0.9853\n",
            "Epoch 26: val_loss did not improve from 0.16419\n",
            "\n",
            "Epoch 26: val_accuracy did not improve from 0.92500\n",
            "11/11 [==============================] - 14s 1s/step - loss: 0.0326 - accuracy: 0.9853 - val_loss: 0.4167 - val_accuracy: 0.8750\n",
            "Epoch 27/250\n",
            "11/11 [==============================] - ETA: 0s - loss: 0.0080 - accuracy: 1.0000\n",
            "Epoch 27: val_loss did not improve from 0.16419\n",
            "\n",
            "Epoch 27: val_accuracy did not improve from 0.92500\n",
            "11/11 [==============================] - 14s 1s/step - loss: 0.0080 - accuracy: 1.0000 - val_loss: 0.6838 - val_accuracy: 0.9000\n",
            "Epoch 28/250\n",
            "11/11 [==============================] - ETA: 0s - loss: 0.0197 - accuracy: 0.9912\n",
            "Epoch 28: val_loss did not improve from 0.16419\n",
            "\n",
            "Epoch 28: val_accuracy did not improve from 0.92500\n",
            "11/11 [==============================] - 14s 1s/step - loss: 0.0197 - accuracy: 0.9912 - val_loss: 0.5703 - val_accuracy: 0.9000\n",
            "Epoch 29/250\n",
            "11/11 [==============================] - ETA: 0s - loss: 0.1165 - accuracy: 0.9765\n",
            "Epoch 29: val_loss did not improve from 0.16419\n",
            "\n",
            "Epoch 29: val_accuracy did not improve from 0.92500\n",
            "11/11 [==============================] - 14s 1s/step - loss: 0.1165 - accuracy: 0.9765 - val_loss: 0.8516 - val_accuracy: 0.8375\n",
            "Epoch 30/250\n",
            "11/11 [==============================] - ETA: 0s - loss: 0.1630 - accuracy: 0.9441\n",
            "Epoch 30: val_loss did not improve from 0.16419\n",
            "\n",
            "Epoch 30: val_accuracy did not improve from 0.92500\n",
            "11/11 [==============================] - 13s 1s/step - loss: 0.1630 - accuracy: 0.9441 - val_loss: 0.5594 - val_accuracy: 0.8625\n",
            "Epoch 31/250\n",
            "11/11 [==============================] - ETA: 0s - loss: 0.0745 - accuracy: 0.9765\n",
            "Epoch 31: val_loss did not improve from 0.16419\n",
            "\n",
            "Epoch 31: val_accuracy did not improve from 0.92500\n",
            "11/11 [==============================] - 13s 1s/step - loss: 0.0745 - accuracy: 0.9765 - val_loss: 0.2411 - val_accuracy: 0.9125\n",
            "Epoch 32/250\n",
            "11/11 [==============================] - ETA: 0s - loss: 0.0354 - accuracy: 0.9912\n",
            "Epoch 32: val_loss did not improve from 0.16419\n",
            "\n",
            "Epoch 32: val_accuracy did not improve from 0.92500\n",
            "11/11 [==============================] - 13s 1s/step - loss: 0.0354 - accuracy: 0.9912 - val_loss: 0.6556 - val_accuracy: 0.8875\n",
            "Epoch 33/250\n",
            "11/11 [==============================] - ETA: 0s - loss: 0.0510 - accuracy: 0.9882\n",
            "Epoch 33: val_loss did not improve from 0.16419\n",
            "\n",
            "Epoch 33: val_accuracy did not improve from 0.92500\n",
            "11/11 [==============================] - 13s 1s/step - loss: 0.0510 - accuracy: 0.9882 - val_loss: 0.6227 - val_accuracy: 0.8625\n",
            "Epoch 34/250\n",
            "11/11 [==============================] - ETA: 0s - loss: 0.0303 - accuracy: 0.9912\n",
            "Epoch 34: val_loss did not improve from 0.16419\n",
            "\n",
            "Epoch 34: val_accuracy did not improve from 0.92500\n",
            "11/11 [==============================] - 13s 1s/step - loss: 0.0303 - accuracy: 0.9912 - val_loss: 0.5636 - val_accuracy: 0.8375\n",
            "Epoch 35/250\n",
            "11/11 [==============================] - ETA: 0s - loss: 0.0393 - accuracy: 0.9912\n",
            "Epoch 35: val_loss did not improve from 0.16419\n",
            "\n",
            "Epoch 35: val_accuracy did not improve from 0.92500\n",
            "11/11 [==============================] - 13s 1s/step - loss: 0.0393 - accuracy: 0.9912 - val_loss: 0.3966 - val_accuracy: 0.8750\n",
            "Epoch 35: early stopping\n"
          ]
        }
      ],
      "source": [
        "mobilenet_history = mobilenet_model.fit(\n",
        "    train_generator,\n",
        "    epochs=epochs,\n",
        "    validation_data=validation_generator,\n",
        "    callbacks=mobilenet_callbacks\n",
        ")"
      ]
    },
    {
      "cell_type": "code",
      "execution_count": 22,
      "metadata": {
        "colab": {
          "base_uri": "https://localhost:8080/"
        },
        "id": "WKC52wr7GFg0",
        "outputId": "03c57816-106f-4a62-c69b-16923620e880"
      },
      "outputs": [
        {
          "name": "stdout",
          "output_type": "stream",
          "text": [
            "Epoch 1/250\n",
            "11/11 [==============================] - ETA: 0s - loss: 1.0038 - accuracy: 0.5029\n",
            "Epoch 1: val_loss improved from inf to 0.69862, saving model to vgg16_checkpoint_loss.h5\n",
            "\n",
            "Epoch 1: val_accuracy improved from -inf to 0.50000, saving model to vgg16_checkpoint_accuracy.h5\n",
            "11/11 [==============================] - 37s 3s/step - loss: 1.0038 - accuracy: 0.5029 - val_loss: 0.6986 - val_accuracy: 0.5000\n",
            "Epoch 2/250\n",
            "11/11 [==============================] - ETA: 0s - loss: 0.6926 - accuracy: 0.5382\n",
            "Epoch 2: val_loss did not improve from 0.69862\n",
            "\n",
            "Epoch 2: val_accuracy did not improve from 0.50000\n",
            "11/11 [==============================] - 32s 3s/step - loss: 0.6926 - accuracy: 0.5382 - val_loss: 0.7188 - val_accuracy: 0.5000\n",
            "Epoch 3/250\n",
            "11/11 [==============================] - ETA: 0s - loss: 0.6902 - accuracy: 0.5324\n",
            "Epoch 3: val_loss improved from 0.69862 to 0.66127, saving model to vgg16_checkpoint_loss.h5\n",
            "\n",
            "Epoch 3: val_accuracy improved from 0.50000 to 0.61250, saving model to vgg16_checkpoint_accuracy.h5\n",
            "11/11 [==============================] - 33s 3s/step - loss: 0.6902 - accuracy: 0.5324 - val_loss: 0.6613 - val_accuracy: 0.6125\n",
            "Epoch 4/250\n",
            "11/11 [==============================] - ETA: 0s - loss: 0.6275 - accuracy: 0.6529\n",
            "Epoch 4: val_loss improved from 0.66127 to 0.58320, saving model to vgg16_checkpoint_loss.h5\n",
            "\n",
            "Epoch 4: val_accuracy improved from 0.61250 to 0.71250, saving model to vgg16_checkpoint_accuracy.h5\n",
            "11/11 [==============================] - 35s 3s/step - loss: 0.6275 - accuracy: 0.6529 - val_loss: 0.5832 - val_accuracy: 0.7125\n",
            "Epoch 5/250\n",
            "11/11 [==============================] - ETA: 0s - loss: 0.5781 - accuracy: 0.7059\n",
            "Epoch 5: val_loss did not improve from 0.58320\n",
            "\n",
            "Epoch 5: val_accuracy did not improve from 0.71250\n",
            "11/11 [==============================] - 38s 3s/step - loss: 0.5781 - accuracy: 0.7059 - val_loss: 0.6452 - val_accuracy: 0.7000\n",
            "Epoch 6/250\n",
            "11/11 [==============================] - ETA: 0s - loss: 0.5221 - accuracy: 0.7412\n",
            "Epoch 6: val_loss did not improve from 0.58320\n",
            "\n",
            "Epoch 6: val_accuracy did not improve from 0.71250\n",
            "11/11 [==============================] - 39s 4s/step - loss: 0.5221 - accuracy: 0.7412 - val_loss: 0.6726 - val_accuracy: 0.6500\n",
            "Epoch 7/250\n",
            "11/11 [==============================] - ETA: 0s - loss: 0.5192 - accuracy: 0.7265\n",
            "Epoch 7: val_loss improved from 0.58320 to 0.49343, saving model to vgg16_checkpoint_loss.h5\n",
            "\n",
            "Epoch 7: val_accuracy improved from 0.71250 to 0.73750, saving model to vgg16_checkpoint_accuracy.h5\n",
            "11/11 [==============================] - 41s 4s/step - loss: 0.5192 - accuracy: 0.7265 - val_loss: 0.4934 - val_accuracy: 0.7375\n",
            "Epoch 8/250\n",
            "11/11 [==============================] - ETA: 0s - loss: 0.5090 - accuracy: 0.7412\n",
            "Epoch 8: val_loss improved from 0.49343 to 0.48252, saving model to vgg16_checkpoint_loss.h5\n",
            "\n",
            "Epoch 8: val_accuracy improved from 0.73750 to 0.76250, saving model to vgg16_checkpoint_accuracy.h5\n",
            "11/11 [==============================] - 40s 4s/step - loss: 0.5090 - accuracy: 0.7412 - val_loss: 0.4825 - val_accuracy: 0.7625\n",
            "Epoch 9/250\n",
            "11/11 [==============================] - ETA: 0s - loss: 0.4610 - accuracy: 0.7824\n",
            "Epoch 9: val_loss did not improve from 0.48252\n",
            "\n",
            "Epoch 9: val_accuracy did not improve from 0.76250\n",
            "11/11 [==============================] - 40s 4s/step - loss: 0.4610 - accuracy: 0.7824 - val_loss: 0.4859 - val_accuracy: 0.7625\n",
            "Epoch 10/250\n",
            "11/11 [==============================] - ETA: 0s - loss: 0.4593 - accuracy: 0.7794\n",
            "Epoch 10: val_loss did not improve from 0.48252\n",
            "\n",
            "Epoch 10: val_accuracy did not improve from 0.76250\n",
            "11/11 [==============================] - 42s 4s/step - loss: 0.4593 - accuracy: 0.7794 - val_loss: 0.4988 - val_accuracy: 0.7375\n",
            "Epoch 11/250\n",
            "11/11 [==============================] - ETA: 0s - loss: 0.4901 - accuracy: 0.7794\n",
            "Epoch 11: val_loss did not improve from 0.48252\n",
            "\n",
            "Epoch 11: val_accuracy did not improve from 0.76250\n",
            "11/11 [==============================] - 41s 4s/step - loss: 0.4901 - accuracy: 0.7794 - val_loss: 0.5435 - val_accuracy: 0.7250\n",
            "Epoch 12/250\n",
            "11/11 [==============================] - ETA: 0s - loss: 0.5324 - accuracy: 0.7353\n",
            "Epoch 12: val_loss did not improve from 0.48252\n",
            "\n",
            "Epoch 12: val_accuracy did not improve from 0.76250\n",
            "11/11 [==============================] - 41s 4s/step - loss: 0.5324 - accuracy: 0.7353 - val_loss: 0.4993 - val_accuracy: 0.7625\n",
            "Epoch 13/250\n",
            "11/11 [==============================] - ETA: 0s - loss: 0.4566 - accuracy: 0.7559\n",
            "Epoch 13: val_loss improved from 0.48252 to 0.48185, saving model to vgg16_checkpoint_loss.h5\n",
            "\n",
            "Epoch 13: val_accuracy did not improve from 0.76250\n",
            "11/11 [==============================] - 43s 4s/step - loss: 0.4566 - accuracy: 0.7559 - val_loss: 0.4819 - val_accuracy: 0.7250\n",
            "Epoch 14/250\n",
            "11/11 [==============================] - ETA: 0s - loss: 0.4157 - accuracy: 0.8206\n",
            "Epoch 14: val_loss did not improve from 0.48185\n",
            "\n",
            "Epoch 14: val_accuracy did not improve from 0.76250\n",
            "11/11 [==============================] - 43s 4s/step - loss: 0.4157 - accuracy: 0.8206 - val_loss: 0.4970 - val_accuracy: 0.7625\n",
            "Epoch 15/250\n",
            "11/11 [==============================] - ETA: 0s - loss: 0.3545 - accuracy: 0.8353\n",
            "Epoch 15: val_loss did not improve from 0.48185\n",
            "\n",
            "Epoch 15: val_accuracy did not improve from 0.76250\n",
            "11/11 [==============================] - 42s 4s/step - loss: 0.3545 - accuracy: 0.8353 - val_loss: 0.5396 - val_accuracy: 0.7250\n",
            "Epoch 16/250\n",
            "11/11 [==============================] - ETA: 0s - loss: 0.3285 - accuracy: 0.8618\n",
            "Epoch 16: val_loss did not improve from 0.48185\n",
            "\n",
            "Epoch 16: val_accuracy did not improve from 0.76250\n",
            "11/11 [==============================] - 43s 4s/step - loss: 0.3285 - accuracy: 0.8618 - val_loss: 0.6780 - val_accuracy: 0.7375\n",
            "Epoch 17/250\n",
            "11/11 [==============================] - ETA: 0s - loss: 0.3690 - accuracy: 0.8235\n",
            "Epoch 17: val_loss did not improve from 0.48185\n",
            "\n",
            "Epoch 17: val_accuracy did not improve from 0.76250\n",
            "11/11 [==============================] - 42s 4s/step - loss: 0.3690 - accuracy: 0.8235 - val_loss: 0.4898 - val_accuracy: 0.7625\n",
            "Epoch 18/250\n",
            "11/11 [==============================] - ETA: 0s - loss: 0.3051 - accuracy: 0.8588\n",
            "Epoch 18: val_loss did not improve from 0.48185\n",
            "\n",
            "Epoch 18: val_accuracy did not improve from 0.76250\n",
            "11/11 [==============================] - 43s 4s/step - loss: 0.3051 - accuracy: 0.8588 - val_loss: 0.7199 - val_accuracy: 0.7500\n",
            "Epoch 19/250\n",
            "11/11 [==============================] - ETA: 0s - loss: 0.2976 - accuracy: 0.8647\n",
            "Epoch 19: val_loss did not improve from 0.48185\n",
            "\n",
            "Epoch 19: val_accuracy did not improve from 0.76250\n",
            "11/11 [==============================] - 44s 4s/step - loss: 0.2976 - accuracy: 0.8647 - val_loss: 0.8094 - val_accuracy: 0.7250\n",
            "Epoch 20/250\n",
            "11/11 [==============================] - ETA: 0s - loss: 0.3758 - accuracy: 0.8412\n",
            "Epoch 20: val_loss did not improve from 0.48185\n",
            "\n",
            "Epoch 20: val_accuracy did not improve from 0.76250\n",
            "11/11 [==============================] - 41s 4s/step - loss: 0.3758 - accuracy: 0.8412 - val_loss: 0.5530 - val_accuracy: 0.7375\n",
            "Epoch 21/250\n",
            "11/11 [==============================] - ETA: 0s - loss: 0.2900 - accuracy: 0.8912\n",
            "Epoch 21: val_loss did not improve from 0.48185\n",
            "\n",
            "Epoch 21: val_accuracy did not improve from 0.76250\n",
            "11/11 [==============================] - 43s 4s/step - loss: 0.2900 - accuracy: 0.8912 - val_loss: 0.7192 - val_accuracy: 0.7125\n",
            "Epoch 22/250\n",
            "11/11 [==============================] - ETA: 0s - loss: 0.3267 - accuracy: 0.8706\n",
            "Epoch 22: val_loss did not improve from 0.48185\n",
            "\n",
            "Epoch 22: val_accuracy did not improve from 0.76250\n",
            "11/11 [==============================] - 44s 4s/step - loss: 0.3267 - accuracy: 0.8706 - val_loss: 0.8173 - val_accuracy: 0.6750\n",
            "Epoch 23/250\n",
            "11/11 [==============================] - ETA: 0s - loss: 0.2811 - accuracy: 0.8912\n",
            "Epoch 23: val_loss did not improve from 0.48185\n",
            "\n",
            "Epoch 23: val_accuracy did not improve from 0.76250\n",
            "11/11 [==============================] - 46s 4s/step - loss: 0.2811 - accuracy: 0.8912 - val_loss: 0.6467 - val_accuracy: 0.7000\n",
            "Epoch 24/250\n",
            "11/11 [==============================] - ETA: 0s - loss: 0.2681 - accuracy: 0.8941\n",
            "Epoch 24: val_loss did not improve from 0.48185\n",
            "\n",
            "Epoch 24: val_accuracy did not improve from 0.76250\n",
            "11/11 [==============================] - 47s 4s/step - loss: 0.2681 - accuracy: 0.8941 - val_loss: 0.6478 - val_accuracy: 0.7625\n",
            "Epoch 25/250\n",
            "11/11 [==============================] - ETA: 0s - loss: 0.2937 - accuracy: 0.8706\n",
            "Epoch 25: val_loss did not improve from 0.48185\n",
            "\n",
            "Epoch 25: val_accuracy did not improve from 0.76250\n",
            "11/11 [==============================] - 45s 4s/step - loss: 0.2937 - accuracy: 0.8706 - val_loss: 0.5695 - val_accuracy: 0.7500\n",
            "Epoch 26/250\n",
            "11/11 [==============================] - ETA: 0s - loss: 0.3238 - accuracy: 0.8588\n",
            "Epoch 26: val_loss did not improve from 0.48185\n",
            "\n",
            "Epoch 26: val_accuracy did not improve from 0.76250\n",
            "11/11 [==============================] - 46s 4s/step - loss: 0.3238 - accuracy: 0.8588 - val_loss: 0.8272 - val_accuracy: 0.6875\n",
            "Epoch 27/250\n",
            "11/11 [==============================] - ETA: 0s - loss: 0.3423 - accuracy: 0.8647\n",
            "Epoch 27: val_loss did not improve from 0.48185\n",
            "\n",
            "Epoch 27: val_accuracy did not improve from 0.76250\n",
            "11/11 [==============================] - 48s 4s/step - loss: 0.3423 - accuracy: 0.8647 - val_loss: 0.5693 - val_accuracy: 0.7250\n",
            "Epoch 28/250\n",
            "11/11 [==============================] - ETA: 0s - loss: 0.2943 - accuracy: 0.8735\n",
            "Epoch 28: val_loss did not improve from 0.48185\n",
            "\n",
            "Epoch 28: val_accuracy did not improve from 0.76250\n",
            "11/11 [==============================] - 47s 4s/step - loss: 0.2943 - accuracy: 0.8735 - val_loss: 0.5363 - val_accuracy: 0.7250\n",
            "Epoch 29/250\n",
            "11/11 [==============================] - ETA: 0s - loss: 0.2834 - accuracy: 0.8735\n",
            "Epoch 29: val_loss did not improve from 0.48185\n",
            "\n",
            "Epoch 29: val_accuracy did not improve from 0.76250\n",
            "11/11 [==============================] - 46s 4s/step - loss: 0.2834 - accuracy: 0.8735 - val_loss: 0.5621 - val_accuracy: 0.7125\n",
            "Epoch 30/250\n",
            "11/11 [==============================] - ETA: 0s - loss: 0.2748 - accuracy: 0.8853\n",
            "Epoch 30: val_loss did not improve from 0.48185\n",
            "\n",
            "Epoch 30: val_accuracy did not improve from 0.76250\n",
            "11/11 [==============================] - 47s 4s/step - loss: 0.2748 - accuracy: 0.8853 - val_loss: 0.8812 - val_accuracy: 0.7625\n",
            "Epoch 31/250\n",
            "11/11 [==============================] - ETA: 0s - loss: 0.3737 - accuracy: 0.8324\n",
            "Epoch 31: val_loss did not improve from 0.48185\n",
            "\n",
            "Epoch 31: val_accuracy did not improve from 0.76250\n",
            "11/11 [==============================] - 45s 4s/step - loss: 0.3737 - accuracy: 0.8324 - val_loss: 0.6307 - val_accuracy: 0.7250\n",
            "Epoch 32/250\n",
            "11/11 [==============================] - ETA: 0s - loss: 0.2529 - accuracy: 0.9029\n",
            "Epoch 32: val_loss did not improve from 0.48185\n",
            "\n",
            "Epoch 32: val_accuracy did not improve from 0.76250\n",
            "11/11 [==============================] - 46s 4s/step - loss: 0.2529 - accuracy: 0.9029 - val_loss: 1.2114 - val_accuracy: 0.7125\n",
            "Epoch 33/250\n",
            "11/11 [==============================] - ETA: 0s - loss: 0.2016 - accuracy: 0.9088\n",
            "Epoch 33: val_loss did not improve from 0.48185\n",
            "\n",
            "Epoch 33: val_accuracy did not improve from 0.76250\n",
            "11/11 [==============================] - 44s 4s/step - loss: 0.2016 - accuracy: 0.9088 - val_loss: 0.7564 - val_accuracy: 0.7500\n",
            "Epoch 33: early stopping\n"
          ]
        }
      ],
      "source": [
        "vgg16_history = vgg16_model.fit(\n",
        "    train_generator,\n",
        "    epochs=epochs,\n",
        "    validation_data=validation_generator,\n",
        "    callbacks=vgg16_callbacks\n",
        ")"
      ]
    },
    {
      "cell_type": "code",
      "execution_count": 23,
      "metadata": {
        "id": "0h2EM3Mml-Ve"
      },
      "outputs": [
        {
          "name": "stdout",
          "output_type": "stream",
          "text": [
            "Epoch 1/250\n",
            "11/11 [==============================] - ETA: 0s - loss: 8.2374 - accuracy: 0.5088\n",
            "Epoch 1: val_loss improved from inf to 0.85308, saving model to resnet50_checkpoint_loss.h5\n",
            "\n",
            "Epoch 1: val_accuracy improved from -inf to 0.50000, saving model to resnet50_checkpoint_accuracy.h5\n",
            "11/11 [==============================] - 39s 3s/step - loss: 8.2374 - accuracy: 0.5088 - val_loss: 0.8531 - val_accuracy: 0.5000\n",
            "Epoch 2/250\n",
            "11/11 [==============================] - ETA: 0s - loss: 0.7429 - accuracy: 0.5088\n",
            "Epoch 2: val_loss improved from 0.85308 to 0.71122, saving model to resnet50_checkpoint_loss.h5\n",
            "\n",
            "Epoch 2: val_accuracy did not improve from 0.50000\n",
            "11/11 [==============================] - 33s 3s/step - loss: 0.7429 - accuracy: 0.5088 - val_loss: 0.7112 - val_accuracy: 0.5000\n",
            "Epoch 3/250\n",
            "11/11 [==============================] - ETA: 0s - loss: 0.6973 - accuracy: 0.4941\n",
            "Epoch 3: val_loss improved from 0.71122 to 0.69170, saving model to resnet50_checkpoint_loss.h5\n",
            "\n",
            "Epoch 3: val_accuracy did not improve from 0.50000\n",
            "11/11 [==============================] - 34s 3s/step - loss: 0.6973 - accuracy: 0.4941 - val_loss: 0.6917 - val_accuracy: 0.5000\n",
            "Epoch 4/250\n",
            "11/11 [==============================] - ETA: 0s - loss: 0.6926 - accuracy: 0.5265\n",
            "Epoch 4: val_loss did not improve from 0.69170\n",
            "\n",
            "Epoch 4: val_accuracy did not improve from 0.50000\n",
            "11/11 [==============================] - 33s 3s/step - loss: 0.6926 - accuracy: 0.5265 - val_loss: 0.7074 - val_accuracy: 0.5000\n",
            "Epoch 5/250\n",
            "11/11 [==============================] - ETA: 0s - loss: 0.7234 - accuracy: 0.4588\n",
            "Epoch 5: val_loss did not improve from 0.69170\n",
            "\n",
            "Epoch 5: val_accuracy did not improve from 0.50000\n",
            "11/11 [==============================] - 32s 3s/step - loss: 0.7234 - accuracy: 0.4588 - val_loss: 0.6932 - val_accuracy: 0.4500\n",
            "Epoch 6/250\n",
            "11/11 [==============================] - ETA: 0s - loss: 0.6942 - accuracy: 0.4794\n",
            "Epoch 6: val_loss did not improve from 0.69170\n",
            "\n",
            "Epoch 6: val_accuracy did not improve from 0.50000\n",
            "11/11 [==============================] - 32s 3s/step - loss: 0.6942 - accuracy: 0.4794 - val_loss: 0.6933 - val_accuracy: 0.5000\n",
            "Epoch 7/250\n",
            "11/11 [==============================] - ETA: 0s - loss: 0.6966 - accuracy: 0.4559\n",
            "Epoch 7: val_loss did not improve from 0.69170\n",
            "\n",
            "Epoch 7: val_accuracy did not improve from 0.50000\n",
            "11/11 [==============================] - 32s 3s/step - loss: 0.6966 - accuracy: 0.4559 - val_loss: 0.6930 - val_accuracy: 0.5000\n",
            "Epoch 8/250\n",
            "11/11 [==============================] - ETA: 0s - loss: 0.6935 - accuracy: 0.4559\n",
            "Epoch 8: val_loss did not improve from 0.69170\n",
            "\n",
            "Epoch 8: val_accuracy did not improve from 0.50000\n",
            "11/11 [==============================] - 34s 3s/step - loss: 0.6935 - accuracy: 0.4559 - val_loss: 0.6931 - val_accuracy: 0.5000\n",
            "Epoch 9/250\n",
            "11/11 [==============================] - ETA: 0s - loss: 0.7047 - accuracy: 0.5294\n",
            "Epoch 9: val_loss did not improve from 0.69170\n",
            "\n",
            "Epoch 9: val_accuracy did not improve from 0.50000\n",
            "11/11 [==============================] - 34s 3s/step - loss: 0.7047 - accuracy: 0.5294 - val_loss: 0.6931 - val_accuracy: 0.5000\n",
            "Epoch 10/250\n",
            "11/11 [==============================] - ETA: 0s - loss: 0.6937 - accuracy: 0.5088\n",
            "Epoch 10: val_loss did not improve from 0.69170\n",
            "\n",
            "Epoch 10: val_accuracy did not improve from 0.50000\n",
            "11/11 [==============================] - 32s 3s/step - loss: 0.6937 - accuracy: 0.5088 - val_loss: 0.6932 - val_accuracy: 0.5000\n",
            "Epoch 11/250\n",
            "11/11 [==============================] - ETA: 0s - loss: 0.6932 - accuracy: 0.5000\n",
            "Epoch 11: val_loss did not improve from 0.69170\n",
            "\n",
            "Epoch 11: val_accuracy did not improve from 0.50000\n",
            "11/11 [==============================] - 32s 3s/step - loss: 0.6932 - accuracy: 0.5000 - val_loss: 0.6932 - val_accuracy: 0.5000\n",
            "Epoch 12/250\n",
            "11/11 [==============================] - ETA: 0s - loss: 0.6934 - accuracy: 0.4706\n",
            "Epoch 12: val_loss did not improve from 0.69170\n",
            "\n",
            "Epoch 12: val_accuracy did not improve from 0.50000\n",
            "11/11 [==============================] - 32s 3s/step - loss: 0.6934 - accuracy: 0.4706 - val_loss: 0.6935 - val_accuracy: 0.5000\n",
            "Epoch 13/250\n",
            "11/11 [==============================] - ETA: 0s - loss: 0.6945 - accuracy: 0.4647\n",
            "Epoch 13: val_loss did not improve from 0.69170\n",
            "\n",
            "Epoch 13: val_accuracy did not improve from 0.50000\n",
            "11/11 [==============================] - 32s 3s/step - loss: 0.6945 - accuracy: 0.4647 - val_loss: 0.6931 - val_accuracy: 0.5000\n",
            "Epoch 14/250\n",
            "11/11 [==============================] - ETA: 0s - loss: 0.6932 - accuracy: 0.4353\n",
            "Epoch 14: val_loss did not improve from 0.69170\n",
            "\n",
            "Epoch 14: val_accuracy did not improve from 0.50000\n",
            "11/11 [==============================] - 33s 3s/step - loss: 0.6932 - accuracy: 0.4353 - val_loss: 0.6931 - val_accuracy: 0.5000\n",
            "Epoch 15/250\n",
            "11/11 [==============================] - ETA: 0s - loss: 0.6933 - accuracy: 0.4353\n",
            "Epoch 15: val_loss did not improve from 0.69170\n",
            "\n",
            "Epoch 15: val_accuracy did not improve from 0.50000\n",
            "11/11 [==============================] - 32s 3s/step - loss: 0.6933 - accuracy: 0.4353 - val_loss: 0.6931 - val_accuracy: 0.5000\n",
            "Epoch 16/250\n",
            "11/11 [==============================] - ETA: 0s - loss: 0.6931 - accuracy: 0.5147\n",
            "Epoch 16: val_loss did not improve from 0.69170\n",
            "\n",
            "Epoch 16: val_accuracy did not improve from 0.50000\n",
            "11/11 [==============================] - 32s 3s/step - loss: 0.6931 - accuracy: 0.5147 - val_loss: 0.6931 - val_accuracy: 0.5000\n",
            "Epoch 17/250\n",
            "11/11 [==============================] - ETA: 0s - loss: 0.6932 - accuracy: 0.5000\n",
            "Epoch 17: val_loss did not improve from 0.69170\n",
            "\n",
            "Epoch 17: val_accuracy did not improve from 0.50000\n",
            "11/11 [==============================] - 32s 3s/step - loss: 0.6932 - accuracy: 0.5000 - val_loss: 0.6931 - val_accuracy: 0.5000\n",
            "Epoch 18/250\n",
            "11/11 [==============================] - ETA: 0s - loss: 0.6932 - accuracy: 0.5000\n",
            "Epoch 18: val_loss did not improve from 0.69170\n",
            "\n",
            "Epoch 18: val_accuracy did not improve from 0.50000\n",
            "11/11 [==============================] - 32s 3s/step - loss: 0.6932 - accuracy: 0.5000 - val_loss: 0.6931 - val_accuracy: 0.5000\n",
            "Epoch 19/250\n",
            "11/11 [==============================] - ETA: 0s - loss: 0.6932 - accuracy: 0.5000\n",
            "Epoch 19: val_loss did not improve from 0.69170\n",
            "\n",
            "Epoch 19: val_accuracy did not improve from 0.50000\n",
            "11/11 [==============================] - 31s 3s/step - loss: 0.6932 - accuracy: 0.5000 - val_loss: 0.6931 - val_accuracy: 0.5000\n",
            "Epoch 20/250\n",
            "11/11 [==============================] - ETA: 0s - loss: 0.6933 - accuracy: 0.5000\n",
            "Epoch 20: val_loss did not improve from 0.69170\n",
            "\n",
            "Epoch 20: val_accuracy did not improve from 0.50000\n",
            "11/11 [==============================] - 31s 3s/step - loss: 0.6933 - accuracy: 0.5000 - val_loss: 0.6932 - val_accuracy: 0.5000\n",
            "Epoch 21/250\n",
            "11/11 [==============================] - ETA: 0s - loss: 0.6937 - accuracy: 0.4971\n",
            "Epoch 21: val_loss did not improve from 0.69170\n",
            "\n",
            "Epoch 21: val_accuracy did not improve from 0.50000\n",
            "11/11 [==============================] - 31s 3s/step - loss: 0.6937 - accuracy: 0.4971 - val_loss: 0.6932 - val_accuracy: 0.5000\n",
            "Epoch 22/250\n",
            "11/11 [==============================] - ETA: 0s - loss: 0.6931 - accuracy: 0.5000\n",
            "Epoch 22: val_loss did not improve from 0.69170\n",
            "\n",
            "Epoch 22: val_accuracy did not improve from 0.50000\n",
            "11/11 [==============================] - 31s 3s/step - loss: 0.6931 - accuracy: 0.5000 - val_loss: 0.6932 - val_accuracy: 0.5000\n",
            "Epoch 23/250\n",
            "11/11 [==============================] - ETA: 0s - loss: 0.6931 - accuracy: 0.5000\n",
            "Epoch 23: val_loss did not improve from 0.69170\n",
            "\n",
            "Epoch 23: val_accuracy did not improve from 0.50000\n",
            "11/11 [==============================] - 31s 3s/step - loss: 0.6931 - accuracy: 0.5000 - val_loss: 0.6931 - val_accuracy: 0.5000\n",
            "Epoch 24/250\n",
            "11/11 [==============================] - ETA: 0s - loss: 0.6932 - accuracy: 0.4882\n",
            "Epoch 24: val_loss did not improve from 0.69170\n",
            "\n",
            "Epoch 24: val_accuracy did not improve from 0.50000\n",
            "11/11 [==============================] - 34s 3s/step - loss: 0.6932 - accuracy: 0.4882 - val_loss: 0.6931 - val_accuracy: 0.5000\n",
            "Epoch 25/250\n",
            "11/11 [==============================] - ETA: 0s - loss: 0.6932 - accuracy: 0.5118\n",
            "Epoch 25: val_loss did not improve from 0.69170\n",
            "\n",
            "Epoch 25: val_accuracy did not improve from 0.50000\n",
            "11/11 [==============================] - 33s 3s/step - loss: 0.6932 - accuracy: 0.5118 - val_loss: 0.6932 - val_accuracy: 0.5000\n",
            "Epoch 26/250\n",
            "11/11 [==============================] - ETA: 0s - loss: 0.7013 - accuracy: 0.4971\n",
            "Epoch 26: val_loss did not improve from 0.69170\n",
            "\n",
            "Epoch 26: val_accuracy did not improve from 0.50000\n",
            "11/11 [==============================] - 33s 3s/step - loss: 0.7013 - accuracy: 0.4971 - val_loss: 0.6932 - val_accuracy: 0.5000\n",
            "Epoch 26: early stopping\n"
          ]
        }
      ],
      "source": [
        "resnet50_history = resnet50_model.fit(\n",
        "    train_generator,\n",
        "    epochs=epochs,\n",
        "    validation_data=validation_generator,\n",
        "    callbacks=resnet50_callbacks\n",
        ")"
      ]
    },
    {
      "cell_type": "markdown",
      "metadata": {
        "id": "7-DzECOYmUs_"
      },
      "source": [
        "Visualisation"
      ]
    },
    {
      "cell_type": "code",
      "execution_count": 24,
      "metadata": {
        "id": "likcdpsqmS4K"
      },
      "outputs": [
        {
          "data": {
            "image/png": "[encoded data removed]",
            "text/plain": [
              "<Figure size 640x480 with 1 Axes>"
            ]
          },
          "metadata": {},
          "output_type": "display_data"
        }
      ],
      "source": [
        "import matplotlib.pyplot as plt\n",
        "\n",
        "# Plot training & validation accuracy values\n",
        "plt.plot(mobilenet_history.history['accuracy'])\n",
        "plt.plot(mobilenet_history.history['val_accuracy'])\n",
        "plt.title('MobileNet Model accuracy')\n",
        "plt.ylabel('Accuracy')\n",
        "plt.xlabel('Epoch')\n",
        "plt.legend(['Train', 'Test'], loc='upper left')\n",
        "plt.show()"
      ]
    },
    {
      "cell_type": "code",
      "execution_count": 25,
      "metadata": {
        "id": "0ddZOpAumYZI"
      },
      "outputs": [
        {
          "data": {
            "image/png": "[encoded data removed]",
            "text/plain": [
              "<Figure size 640x480 with 1 Axes>"
            ]
          },
          "metadata": {},
          "output_type": "display_data"
        }
      ],
      "source": [
        "plt.plot(vgg16_history.history['accuracy'])\n",
        "plt.plot(vgg16_history.history['val_accuracy'])\n",
        "plt.title('VGG16 Model accuracy')\n",
        "plt.ylabel('Accuracy')\n",
        "plt.xlabel('Epoch')\n",
        "plt.legend(['Train', 'Test'], loc='upper left')\n",
        "plt.show()"
      ]
    },
    {
      "cell_type": "code",
      "execution_count": 26,
      "metadata": {
        "id": "hdPypMddmcia"
      },
      "outputs": [
        {
          "data": {
            "image/png": "[encoded data removed]",
            "text/plain": [
              "<Figure size 640x480 with 1 Axes>"
            ]
          },
          "metadata": {},
          "output_type": "display_data"
        }
      ],
      "source": [
        "plt.plot(resnet50_history.history['accuracy'])\n",
        "plt.plot(resnet50_history.history['val_accuracy'])\n",
        "plt.title('ResNet50 Model accuracy')\n",
        "plt.ylabel('Accuracy')\n",
        "plt.xlabel('Epoch')\n",
        "plt.legend(['Train', 'Test'], loc='upper left')\n",
        "plt.show()"
      ]
    },
    {
      "cell_type": "code",
      "execution_count": null,
      "metadata": {
        "id": "-mD8tiH8meqy"
      },
      "outputs": [],
      "source": []
    }
  ],
  "metadata": {
    "colab": {
      "provenance": []
    },
    "kernelspec": {
      "display_name": "Python 3",
      "name": "python3"
    },
    "language_info": {
      "codemirror_mode": {
        "name": "ipython",
        "version": 3
      },
      "file_extension": ".py",
      "mimetype": "text/x-python",
      "name": "python",
      "nbconvert_exporter": "python",
      "pygments_lexer": "ipython3",
      "version": "3.11.6"
    }
  },
  "nbformat": 4,
  "nbformat_minor": 0
}
